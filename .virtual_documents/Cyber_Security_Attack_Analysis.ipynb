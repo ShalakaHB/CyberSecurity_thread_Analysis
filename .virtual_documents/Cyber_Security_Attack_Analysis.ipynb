


import pandas as pd
import matplotlib.pyplot as plt 
import seaborn as sns 


file_path = "cybersecurity_attacks.csv"
cyber_attack_df = pd.read_csv(file_path)


cyber_attack_df.head()


cyber_attack_df.tail()


cyber_attack_df.shape


cyber_attack_df.info()


cyber_attack_df.describe()


cyber_attack_df.isnull()


cyber_attack_df.isnull().sum()


attack_type_distribution = cyber_attack_df['Attack Type'].value_counts()


print("Distribution of Attack Types ")
print(attack_type_distribution.head(10))


import pandas as pd
import matplotlib.pyplot as plt
import seaborn as sns

# Load the dataset
file_path = 'cybersecurity_attacks.csv.'
cyber_attack_df = pd.read_csv(file_path)

# Convert the 'Timestamp' column to datetime format
if 'Timestamp' in cyber_attack_df.columns:
    cyber_attack_df['Timestamp'] = pd.to_datetime(cyber_attack_df['Timestamp'])
else:
    print("Column 'Timestamp' not found in the dataset.")

# Check if 'Attack Type' column exists
if 'Attack Type' in cyber_attack_df.columns:
    # Calculate the distribution of attack types
    attack_distribution = cyber_attack_df['Attack Type'].value_counts()
    print("Distribution of Attack Types:\n", attack_distribution)

    # Plot the distribution of attack types
    plt.figure(figsize=(10, 6))
    sns.barplot(x=attack_distribution.index, y=attack_distribution.values, palette="viridis")
    plt.title("Distribution of Attack Types", fontsize=16)
    plt.xlabel("Attack Type", fontsize=12)
    plt.ylabel("Number of Occurrences", fontsize=12)
    plt.xticks(rotation=45)
    plt.tight_layout()
    plt.show()
else:
    print("Column 'Attack Type' not found in the dataset.")






cyber_attack_df['Timestamp'] = pd.to_datetime(cyber_attack_df['Timestamp'], errors = 'correct')

cyber_attack_df['Date'] = cyber_attack_df['Timestamp'].dt.date

attack_frequency = cyber_attack_df.groupby('Date').size()

plt.figure(figsize = (14,7))

plt.plot(attack_frequency.index, attack_frequency.values, color = 'blue', marker = 'o')

plt.title('Cyber Attack Frequency Overtime')
plt.xlabel('Date')
plt.ylabel('Number of Attack')
plt.grid(True)
plt.xticks(rotation = 45)
plt.tight_layout()
plt.show()





region_distribution = cyber_attack_df['Geo-location Data'].value_counts()

print("Top 10 Region Most Affected by Cyber Attacks :")
print(region_distribution.head(10))

plt.figure(figsize = (12,6))
region_distribution.head(10).plot(kind = 'bar', color = 'orange')
plt.title('Top 10 Regions Most Affected by Cyber Attacks')
plt.xlabel('Region')
plt.ylabel('Number Of Attacks')
plt.xticks(rotation = 45, ha = 'right')
plt.grid(axis = 'y')
plt.tight_layout()
plt.show()


organization_distribution = cyber_attack_df['User Information'].value_counts()

print("\n Top 10 Organizations/ Industries Most Affected by Cyber Attacks :")

print(organization_distribution.head(10))

plt.figure(figsize = (12,6))

organization_distribution.head(10).plot(kind = 'bar', color = 'pink')

plt.title('Top 10 Organizations / Industries Most Affected by Cyber Attacks')

plt.xlabel('Organization / Industry')
plt.ylabel('Number of Attacks')
plt.xticks(rotation = 45, ha = 'right')
plt.grid(axis = 'y')
plt.tight_layout()
plt.show()





# Standardize column names
cyber_attack_df.columns = cyber_attack_df.columns.str.strip().str.replace(" ", "_").str.lower()

# Check the standardized column names
print(cyber_attack_df.columns)

# Calculate average anomaly scores grouped by attack type
if 'attack_type' in cyber_attack_df.columns and 'anomaly_scores' in cyber_attack_df.columns:
    avg_damage = cyber_attack_df.groupby('attack_type')['anomaly_scores'].mean()
    print("Average Damage by Attack Type:\n", avg_damage)

    # Plot average damage by attack type
    plt.figure(figsize=(12, 6))
    sns.barplot(x=avg_damage.index, y=avg_damage.values, palette="mako")
    plt.title("Average Damage by Attack Type", fontsize=16)
    plt.xlabel("Attack Type", fontsize=12)
    plt.ylabel("Average Anomaly Score", fontsize=12)
    plt.xticks(rotation=45)
    plt.tight_layout()
    plt.show()
else:
    print("Required columns not found in the dataset.")



import pandas as pd
import matplotlib.pyplot as plt

# Load the CSV file
file_path = "cybersecurity_attacks.csv"  # Replace with your actual file path
cyber_attack_df = pd.read_csv(file_path)

# Debugging: Check column names
print("Columns in the DataFrame:", cyber_attack_df.columns)

# Group by 'Attack Type' and compute total financial loss and count of occurrences
# Ensure all column names match their actual names in the CSV file
attack_stats = cyber_attack_df.groupby('Attack Type').agg(
    total_loss=('Packet Length', 'sum'),  # Replace 'Packet Length' with your loss metric
    avg_loss=('Packet Length', 'mean'),
    count=('Attack Type', 'size')
).reset_index()

# Group by 'Severity Level' to count occurrences
severity_stats = cyber_attack_df['Severity Level'].value_counts()

# --- Visualization ---

# Bar Chart: Total Financial Loss by Attack Type
plt.figure(figsize=(10, 6))
plt.bar(attack_stats['Attack Type'], attack_stats['total_loss'], color='orange')
plt.title('\n Total Financial Loss by Attack Type \n\n', fontsize=14)
plt.xlabel('Attack Type', fontsize=12)
plt.ylabel('Total Financial Loss (Packet Length)', fontsize=12)
plt.grid(axis='y')
plt.show()

# Pie Chart: Attack Severity Distribution
plt.figure(figsize=(8, 8))
plt.pie(severity_stats, labels=severity_stats.index, autopct='%1.1f%%', startangle=140)
plt.title('\n\n Attack Severity Distribution', fontsize=14)
plt.show()

# Print Comparative Table
print("=== Comparative Table ===")
print(attack_stats)

# Export data to a CSV file
output_file = "attack_damage_assessment.csv"
attack_stats.to_csv(output_file, index=False)
print(f"Comparative table exported as '{output_file}'")






import pandas as pd
import matplotlib.pyplot as plt
import seaborn as sns

# Load the dataset
file_path = 'cybersecurity_attacks.csv'
cybersecurity_data = pd.read_csv(file_path)

# Set up plot style
sns.set(style="whitegrid")

# Analyze the effectiveness of various protocols based on "Action Taken" and "Log Source"
action_distribution = cybersecurity_data['Action Taken'].value_counts()
log_source_distribution = cybersecurity_data['Log Source'].value_counts()

# Compute success rates for "Blocked" and "Logged" actions
success_actions = cybersecurity_data[cybersecurity_data['Action Taken'].isin(['Blocked', 'Logged'])]
success_rate = success_actions['Action Taken'].value_counts(normalize=True) * 100

# Severity distribution by action
severity_by_action = cybersecurity_data.groupby('Action Taken')['Severity Level'].value_counts(normalize=True).unstack()

# 1. Bar chart: Action distribution
plt.figure(figsize=(8, 6))
sns.barplot(x=action_distribution.index, y=action_distribution.values, palette="muted")
plt.title("Distribution of Actions Taken", fontsize=16)
plt.xlabel("Action Taken", fontsize=12)
plt.ylabel("Count", fontsize=12)
plt.tight_layout()
plt.show()

# 2. Bar chart: Log source distribution
plt.figure(figsize=(8, 6))
sns.barplot(x=log_source_distribution.index, y=log_source_distribution.values, palette="pastel")
plt.title("Log Source Distribution", fontsize=16)
plt.xlabel("Log Source", fontsize=12)
plt.ylabel("Count", fontsize=12)
plt.tight_layout()
plt.show()

# 3. Heatmap: Severity levels by action type
plt.figure(figsize=(10, 6))
sns.heatmap(severity_by_action, annot=True, fmt=".2f", cmap="Blues", cbar_kws={'label': 'Proportion'})
plt.title("Severity Level Distribution by Action", fontsize=16)
plt.xlabel("Severity Level", fontsize=12)
plt.ylabel("Action Taken", fontsize=12)
plt.tight_layout()
plt.show()







